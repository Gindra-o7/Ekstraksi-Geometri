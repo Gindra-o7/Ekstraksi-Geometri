{
 "cells": [
  {
   "cell_type": "code",
   "id": "initial_id",
   "metadata": {
    "collapsed": true,
    "ExecuteTime": {
     "end_time": "2024-10-29T07:28:45.192031Z",
     "start_time": "2024-10-29T07:28:44.808451Z"
    }
   },
   "source": [
    "import cv2\n",
    "import numpy as np\n",
    "import csv\n",
    "import os"
   ],
   "outputs": [],
   "execution_count": 2
  },
  {
   "metadata": {
    "ExecuteTime": {
     "end_time": "2024-10-29T07:28:47.400175Z",
     "start_time": "2024-10-29T07:28:47.393144Z"
    }
   },
   "cell_type": "code",
   "source": [
    "#folder data\n",
    "base_folder = \"data\"\n",
    "subfolders = [\"A\", \"M\"]"
   ],
   "id": "892bd9977e95ca86",
   "outputs": [],
   "execution_count": 3
  },
  {
   "metadata": {
    "ExecuteTime": {
     "end_time": "2024-10-29T07:45:51.889433Z",
     "start_time": "2024-10-29T07:45:49.614254Z"
    }
   },
   "cell_type": "code",
   "source": [
    "#menyiapkan file csv untuk menyimpan fitur\n",
    "with open('geometric_feature.csv', mode='w', newline='') as file:\n",
    "    writer = csv.writer(file)\n",
    "    writer.writerow(['Label', 'Area', 'Parameter', 'Aspect Ratio', 'Solidity', 'Eccentricity'])\n",
    "    \n",
    "    #iterasi melalui setiap folder dan gambar\n",
    "    for folder in subfolders:\n",
    "        folder_path = os.path.join(base_folder, folder)\n",
    "        \n",
    "        for image_name in os.listdir(folder_path):\n",
    "            image_path = os.path.join(folder_path, image_name)\n",
    "            \n",
    "            #membaca gambar dalam format BGR\n",
    "            image = cv2.imread(image_path)\n",
    "            if image is None:\n",
    "                continue\n",
    "            \n",
    "            #konversi ke grayscale\n",
    "            gray = cv2.cvtColor(image, cv2.COLOR_BGR2GRAY)\n",
    "                \n",
    "            #pra pemrosesan gambar\n",
    "            blurred = cv2.GaussianBlur(gray, (5, 5), 0)\n",
    "            _, thresh = cv2.threshold(blurred, 127, 255, cv2.THRESH_BINARY)\n",
    "            \n",
    "            #mendeteksi kontur\n",
    "            contours, _ = cv2.findContours(thresh, cv2.RETR_EXTERNAL, cv2.CHAIN_APPROX_SIMPLE)\n",
    "            if not contours or len(contours) == 0:\n",
    "                continue\n",
    "                \n",
    "            largest_contour = max(contours, key=cv2.contourArea)\n",
    "            \n",
    "            # Pastikan kontur memiliki cukup titik untuk fitting ellipse\n",
    "            if len(largest_contour) < 5:\n",
    "                continue\n",
    "            \n",
    "            #ekstraksi fitur geometri\n",
    "            area = cv2.contourArea(largest_contour)\n",
    "            perimeter = cv2.arcLength(largest_contour, True)\n",
    "            hull = cv2.convexHull(largest_contour)\n",
    "            x, y, w, h = cv2.boundingRect(largest_contour)\n",
    "            aspect_ratio = float(w) / h if h != 0 else 0\n",
    "            hull_area = cv2.contourArea(hull)\n",
    "            solidity = float(area) / hull_area if hull_area != 0 else 0\n",
    "            \n",
    "            try:\n",
    "                (x, y), (MA, ma), angle = cv2.fitEllipse(largest_contour)\n",
    "                # Pastikan MA (major axis) lebih besar dari ma (minor axis)\n",
    "                if MA > ma and MA != 0:\n",
    "                    # Rumus eccentricity yang benar untuk ellipse\n",
    "                    eccentricity = np.sqrt(1 - (ma/MA)**2)\n",
    "                else:\n",
    "                    eccentricity = 0\n",
    "            except:\n",
    "                eccentricity = 0\n",
    "            \n",
    "            #menambahkan label berdasarkan folder\n",
    "            label = folder\n",
    "            features = [label, area, perimeter, aspect_ratio, solidity, eccentricity]\n",
    "            writer.writerow(features)\n",
    "            \n",
    "print(\"Ekstraksi Fitur Geometri sudah selesai dan disimpan di file 'geometric_feature.csv'\")"
   ],
   "id": "501f2c4b02f0e354",
   "outputs": [
    {
     "name": "stdout",
     "output_type": "stream",
     "text": [
      "Ekstraksi Fitur Geometri sudah selesai dan disimpan di file 'geometric_feature.csv'\n"
     ]
    }
   ],
   "execution_count": 8
  }
 ],
 "metadata": {
  "kernelspec": {
   "display_name": "Python 3",
   "language": "python",
   "name": "python3"
  },
  "language_info": {
   "codemirror_mode": {
    "name": "ipython",
    "version": 2
   },
   "file_extension": ".py",
   "mimetype": "text/x-python",
   "name": "python",
   "nbconvert_exporter": "python",
   "pygments_lexer": "ipython2",
   "version": "2.7.6"
  }
 },
 "nbformat": 4,
 "nbformat_minor": 5
}
