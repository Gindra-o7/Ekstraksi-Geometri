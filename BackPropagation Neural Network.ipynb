{
 "cells": [
  {
   "cell_type": "code",
   "id": "initial_id",
   "metadata": {
    "collapsed": true,
    "ExecuteTime": {
     "end_time": "2024-12-10T02:44:32.350219Z",
     "start_time": "2024-12-10T02:44:31.879386Z"
    }
   },
   "source": [
    "import pandas as pd\n",
    "from sklearn.preprocessing import LabelEncoder, MinMaxScaler\n",
    "import numpy as np\n",
    "\n",
    "# Load datasets\n",
    "train_file = 'data/data_latih.csv'  # Training dataset\n",
    "test_file = 'data/data_uji.csv'  # Testing dataset\n",
    "\n",
    "df_train = pd.read_csv(train_file)\n",
    "df_test = pd.read_csv(test_file)\n",
    "\n",
    "# Extract features and labels from training data\n",
    "features = ['Area', 'Parameter', 'Aspect Ratio', 'Solidity']\n",
    "x_train = df_train[features].values\n",
    "y_train = df_train['Label'].values\n",
    "\n",
    "# Encode species labels to integers\n",
    "label_encoder = LabelEncoder()\n",
    "y_train = label_encoder.fit_transform(y_train)\n",
    "\n",
    "# Normalize feature values\n",
    "scaler = MinMaxScaler()\n",
    "x_train = scaler.fit_transform(x_train)\n",
    "x_test = scaler.transform(df_test[features].values)\n",
    "\n",
    "# Define the neural network structure\n",
    "n_inputs = len(features)\n",
    "n_hidden = 5\n",
    "n_outputs = len(set(y_train))\n",
    "l_rate = 0.3\n",
    "n_epoch = 500\n",
    "\n",
    "# Initialize network\n",
    "def initialize_network(n_inputs, n_hidden, n_outputs):\n",
    "    network = [\n",
    "        [{'weights': np.random.rand(n_inputs + 1)} for _ in range(n_hidden)],\n",
    "        [{'weights': np.random.rand(n_hidden + 1)} for _ in range(n_outputs)]\n",
    "    ]\n",
    "    return network\n",
    "\n",
    "# Activation function\n",
    "def sigmoid(x, derivative=False):\n",
    "    if derivative:\n",
    "        return x * (1.0 - x)\n",
    "    return 1.0 / (1.0 + np.exp(-x))\n",
    "\n",
    "# Forward propagation\n",
    "def forward_propagate(network, row):\n",
    "    inputs = row\n",
    "    for layer in network:\n",
    "        new_inputs = []\n",
    "        for neuron in layer:\n",
    "            activation = neuron['weights'][-1] + np.dot(neuron['weights'][:-1], inputs)\n",
    "            neuron['output'] = sigmoid(activation)\n",
    "            new_inputs.append(neuron['output'])\n",
    "        inputs = new_inputs\n",
    "    return inputs\n",
    "\n",
    "# Backward propagation of error\n",
    "def backward_propagate_error(network, expected):\n",
    "    for i in reversed(range(len(network))):\n",
    "        layer = network[i]\n",
    "        errors = []\n",
    "        if i != len(network) - 1:\n",
    "            for j in range(len(layer)):\n",
    "                error = sum([neuron['weights'][j] * neuron['delta'] for neuron in network[i + 1]])\n",
    "                errors.append(error)\n",
    "        else:\n",
    "            for j in range(len(layer)):\n",
    "                neuron = layer[j]\n",
    "                errors.append(expected[j] - neuron['output'])\n",
    "        for j in range(len(layer)):\n",
    "            neuron = layer[j]\n",
    "            neuron['delta'] = errors[j] * sigmoid(neuron['output'], derivative=True)\n",
    "\n",
    "# Update weights\n",
    "def update_weights(network, row, l_rate):\n",
    "    for i in range(len(network)):\n",
    "        inputs = row[:-1] if i == 0 else [neuron['output'] for neuron in network[i - 1]]\n",
    "        for neuron in network[i]:\n",
    "            for j in range(len(inputs)):\n",
    "                neuron['weights'][j] += l_rate * neuron['delta'] * inputs[j]\n",
    "            neuron['weights'][-1] += l_rate * neuron['delta']\n",
    "\n",
    "# Train the network\n",
    "def train_network(network, train, l_rate, n_epoch, n_outputs):\n",
    "    for epoch in range(n_epoch):\n",
    "        for row in train:\n",
    "            outputs = forward_propagate(network, row[:-1])\n",
    "            expected = [0 for _ in range(n_outputs)]\n",
    "            expected[int(row[-1])] = 1\n",
    "            backward_propagate_error(network, expected)\n",
    "            update_weights(network, row, l_rate)\n",
    "\n",
    "# Make a prediction\n",
    "def predict(network, row):\n",
    "    outputs = forward_propagate(network, row)\n",
    "    return outputs.index(max(outputs))\n",
    "\n",
    "# Train the model\n",
    "train_data = np.column_stack((x_train, y_train.astype(int)))\n",
    "network = initialize_network(n_inputs, n_hidden, n_outputs)\n",
    "train_network(network, train_data, l_rate, n_epoch, n_outputs)\n",
    "\n",
    "# Predict on test data\n",
    "predictions = [predict(network, row) for row in x_test]\n",
    "predicted_species = label_encoder.inverse_transform(predictions)\n",
    "\n",
    "# Save predictions\n",
    "df_test['Predicted_Species'] = predicted_species\n",
    "df_test.to_csv('data/predictions.csv', index=False)\n",
    "\n",
    "# Optional: plot training accuracy if needed\n",
    "print(\"Predictions saved to 'predictions.csv'\")"
   ],
   "outputs": [
    {
     "name": "stdout",
     "output_type": "stream",
     "text": [
      "Predictions saved to 'predictions.csv'\n"
     ]
    }
   ],
   "execution_count": 4
  },
  {
   "metadata": {
    "ExecuteTime": {
     "end_time": "2024-12-10T02:46:44.460166Z",
     "start_time": "2024-12-10T02:46:44.435867Z"
    }
   },
   "cell_type": "code",
   "source": [
    "import pandas as pd\n",
    "\n",
    "# Load the actual output and predicted output files\n",
    "actual_file = 'data/data_uji_asli.csv'  # File dengan label asli\n",
    "predicted_file = 'data/predictions.csv'  # File dengan prediksi\n",
    "\n",
    "df_actual = pd.read_csv(actual_file)\n",
    "df_predicted = pd.read_csv(predicted_file)\n",
    "\n",
    "# Extract the columns of interest\n",
    "actual_labels = df_actual['Label']\n",
    "predicted_labels = df_predicted['Predicted_Species']\n",
    "\n",
    "# Compare actual and predicted labels\n",
    "correct_predictions = (actual_labels == predicted_labels).sum()\n",
    "total_predictions = len(actual_labels)\n",
    "\n",
    "# Calculate accuracy\n",
    "accuracy = (correct_predictions / total_predictions) * 100\n",
    "\n",
    "print(f'Tingkat keakuratan metode klasifikasi: {accuracy:.2f}%')\n"
   ],
   "id": "3e19eac64f837dff",
   "outputs": [
    {
     "name": "stdout",
     "output_type": "stream",
     "text": [
      "Tingkat keakuratan metode klasifikasi: 75.00%\n"
     ]
    }
   ],
   "execution_count": 5
  }
 ],
 "metadata": {
  "kernelspec": {
   "display_name": "Python 3",
   "language": "python",
   "name": "python3"
  },
  "language_info": {
   "codemirror_mode": {
    "name": "ipython",
    "version": 2
   },
   "file_extension": ".py",
   "mimetype": "text/x-python",
   "name": "python",
   "nbconvert_exporter": "python",
   "pygments_lexer": "ipython2",
   "version": "2.7.6"
  }
 },
 "nbformat": 4,
 "nbformat_minor": 5
}
